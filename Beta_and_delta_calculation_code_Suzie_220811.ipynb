{
  "cells": [
    {
      "cell_type": "markdown",
      "metadata": {
        "id": "view-in-github",
        "colab_type": "text"
      },
      "source": [
        "<a href=\"https://colab.research.google.com/github/weissd2k/Suzie-2020-21/blob/main/Beta_and_delta_calculation_code_Suzie_220811.ipynb\" target=\"_parent\"><img src=\"https://colab.research.google.com/assets/colab-badge.svg\" alt=\"Open In Colab\"/></a>"
      ]
    },
    {
      "cell_type": "markdown",
      "metadata": {
        "id": "AVGCzk2crQmT"
      },
      "source": [
        "### Run the cells below once everytime you restart the notebook\n",
        "#### (must run, every time opening the notebook)"
      ]
    },
    {
      "cell_type": "code",
      "execution_count": null,
      "metadata": {
        "id": "RCgDJLAQrQmd"
      },
      "outputs": [],
      "source": [
        "import numpy as np\n",
        "import pandas as pd\n",
        "import math\n",
        "import matplotlib.pyplot as plt\n",
        "from scipy.interpolate import make_interp_spline, BSpline"
      ]
    },
    {
      "cell_type": "code",
      "execution_count": null,
      "metadata": {
        "id": "wmNjf6hyrQmg"
      },
      "outputs": [],
      "source": [
        "# Setting constants\n",
        "k=1.38064852*10**(-23) #Boltzman's constant\n",
        "h=6.62607004*10**(-34) #Plank's constant\n",
        "c=3e10 #Speed of light in cm/s\n",
        "\n",
        "def beta(table,temp):\n",
        "    a=np.log(table[1]/table[0])\n",
        "    bi=h*table[0]*c/(k*temp)\n",
        "    bj=h*table[1]*c/(k*temp)\n",
        "    qi=(-bi/2)-np.log(1-np.exp(-bi))\n",
        "    qj=(-bj/2)-np.log(1-np.exp(-bj))\n",
        "    result=1000*(a+qj-qi)\n",
        "    i=result.sum()\n",
        "    \n",
        "    return i\n",
        "\n",
        "def CheckInput(checks):\n",
        "    print(checks.head())\n",
        "    print()\n",
        "    print('Number of frequencies: ', checks.shape[0])\n",
        "    print()\n",
        "    print('Are there invalid inputs?')\n",
        "    if checks[0].dtypes == 'float64' and checks[1].dtypes =='float64':\n",
        "        print('No')\n",
        "    else:\n",
        "        print('Yes, please check that there are no missing numbers in your input file')\n",
        "\n",
        "    print()\n",
        "    print('Are there any nagetive frequencies?')\n",
        "    negative = 'No'\n",
        "    for i in checks:\n",
        "        if i< 0:\n",
        "            negative = 'Yes'\n",
        "    print(negative)\n",
        "    \n",
        "def Display_result(l):\n",
        "    lot=[a for a in range (min_temp,max_temp,inc)]\n",
        "    print('(Temperature,','Part func)')\n",
        "    for line in list(zip(lot,l)):\n",
        "        print (line)\n",
        "        \n",
        "def plt_dB(lnA,lnB,d_total,fb):\n",
        "    dA_B= [i-j for i,j in zip(lnA,lnB)]\n",
        "    dB=[d_total+(fb/100 -1)*(k) for k in dA_B]\n",
        "    dA=[i-j for i,j in zip(dA_B,dB)]\n",
        "    plt.plot(x,dB)\n",
        "    \n",
        "def plt_dA(lnA,lnB,d_total,fb):\n",
        "    dA_B= [i-j for i,j in zip(lnA,lnB)]\n",
        "    dB=[d_total+(fb/100 -1)*(k) for k in dA_B]\n",
        "    dA=[i+j for i,j in zip(dA_B,dB)]\n",
        "    plt.plot(x,dA)\n",
        "\n",
        "def print_dB(lnA,lnB,d_total,fb):\n",
        "    dA_B= [i-j for i,j in zip(lnA,lnB)]\n",
        "    dB=[d_total+(fb/100 -1)*(k) for k in dA_B]\n",
        "    dA=[i-j for i,j in zip(dA_B,dB)]\n",
        "    for line in list(zip(x,dB)):\n",
        "        print (line)\n",
        "    \n",
        "def print_dA(lnA,lnB,d_total,fb):\n",
        "    dA_B= [i-j for i,j in zip(lnA,lnB)]\n",
        "    dB=[d_total+(fb/100 -1)*(k) for k in dA_B]\n",
        "    dA=[i+j for i,j in zip(dA_B,dB)]\n",
        "    for line in list(zip(x,dA)):\n",
        "        print (line)\n",
        "    \n",
        "def Setup_plot():\n",
        "    x=input(\"Enter the label for x-axis: \")\n",
        "    y=input(\"Enter the label for y-axis: \")\n",
        "    t=input(\"Enter the title of the graph\")\n",
        "    return x,y,t"
      ]
    },
    {
      "cell_type": "markdown",
      "metadata": {
        "id": "TvVCgCqjrQmk"
      },
      "source": [
        "## 1. Inputing information\n",
        "*frequency data should be in a **separate plain text file** in the **same folder** as this python script*\n",
        "\n",
        "Frequency data should have the following format:\n",
        "> column 1: frequency of the light isotope \n",
        ">\n",
        "> column 2: frequency of the heavy isotope \n",
        "\n",
        "- Each line should contain only 1 pair of frequency data, separated by one Tab (2 adjecent columns copy and pasted straight from excel spreadsheet always fulfills this requirement, even if you see grey lines rather than empty spaces)\n",
        "- Do not include texts, even headings\n",
        "\n"
      ]
    },
    {
      "cell_type": "markdown",
      "metadata": {
        "id": "UNjWiSBIrQmn"
      },
      "source": [
        "### 1.1 Read in frequency data file \n",
        "#### (must run, every time have new frequency file)\n",
        "In the cell below, replace 'myFileName.txt' with the name of your frequency data file\n",
        "\n",
        "* To add the number of data files, simply copy and paste the line and give it a **new and unique** name. \n",
        "    * The name of the variable must be one single word, starting with a letter, and consists of only letter, number and '_'\n",
        "    * eg. Zn_Cit_1=pd.read_csv('myFileName.txt',sep='\\t',header=None)\n",
        "* You can change the name of the variable to anything you wish, just remember to **change it in all subsequent codes**"
      ]
    },
    {
      "cell_type": "code",
      "execution_count": null,
      "metadata": {
        "id": "Y5tfZYYsrQmp"
      },
      "outputs": [],
      "source": [
        "'''The line below is an example of what you can change\n",
        "   Remove the # and Enter your filename and variable name to input your frequency data'''\n",
        "\n",
        "#Example_nameOfVariable_1 =pd.read_csv('myFileName.txt',sep='\\t',header=None)\n",
        "\n",
        "\n",
        "'''The lines below are examples of input file with my ZnSO4 isomers A to G.\n",
        "   They are here as an example of of working files and \n",
        "   what you should expect from correctly running code.\n",
        "   Keep them here so you can test your subsequent codes'''\n",
        "\n",
        "A=pd.read_csv('ZnSO4_A.txt',sep='\\t',header=None)\n",
        "B=pd.read_csv('ZnSO4_B.txt',sep='\\t',header=None)\n"
      ]
    },
    {
      "cell_type": "markdown",
      "metadata": {
        "id": "-rI-8kEvrQmt"
      },
      "source": [
        "### 1.2 Check if data have been corrected inputed\n",
        "#### (should run, first time inputting file)"
      ]
    },
    {
      "cell_type": "markdown",
      "metadata": {
        "id": "dy0Y5TCOrQmv"
      },
      "source": [
        "Run the cell below, replace A in the first row with your variable name\n",
        "\n",
        "You should check:\n",
        "1. If the numbers in the table matches with the numbers in your frequency file (Only the first 5 lines are shown. Ignore the 0 and 1s, they are autogenerated headings and index.) \n",
        "2. The number of frequencies recorded is what you would expect\n",
        "3. The answer to the questions are all '**No**'"
      ]
    },
    {
      "cell_type": "code",
      "execution_count": null,
      "metadata": {
        "id": "gHIkLTmmrQmy",
        "outputId": "b2ebd935-a1e3-4995-9609-c86f6a43168a"
      },
      "outputs": [
        {
          "name": "stdout",
          "output_type": "stream",
          "text": [
            "          0         1\n",
            "0   50.3081   50.2622\n",
            "1   94.1328   93.7899\n",
            "2  131.0562  130.9022\n",
            "3  236.0001  235.8836\n",
            "4  297.0778  296.4345\n",
            "\n",
            "Number of frequencies:  48\n",
            "\n",
            "Are there invalid inputs?\n",
            "No\n",
            "\n",
            "Are there any nagetive frequencies?\n",
            "No\n"
          ]
        }
      ],
      "source": [
        "\"\"\"Replace A in the following row with your variable name\"\"\"\n",
        "CheckInput(A)"
      ]
    },
    {
      "cell_type": "markdown",
      "metadata": {
        "id": "QJ2p1aEarQm2"
      },
      "source": [
        "## 2 Calculate and plot $\\beta$ \n",
        "\n"
      ]
    },
    {
      "cell_type": "markdown",
      "metadata": {
        "id": "rOaAaWqMrQm4"
      },
      "source": [
        "### Before you start, enter the temperature range you wish to carry out calculation. \n",
        "#### must run, every time changing temperature range\n",
        "Every time you change the temperatures, you must rerun all the cells below for the calculations to run correctly\n",
        "\n",
        "Within the temperature range you entered, 1000ln$\\beta$ will be calculated every 100K (OR whatever you set 'inc' to)\n",
        "\n",
        "**Always add 1 to your upper temperature limit!!**\n",
        "**The unit of the calculations is K. Manually add 273.13 if you wish to use $\\circ$C**"
      ]
    },
    {
      "cell_type": "code",
      "execution_count": null,
      "metadata": {
        "id": "k5LBNpd_rQm5"
      },
      "outputs": [],
      "source": [
        "'''Set your temperatures here'''\n",
        "min_temp=200 #Lower limit of the temperature range\n",
        "max_temp=1401 #Upper limit of the temperature range, \n",
        "inc=100 #Calculate beta every 100K\n",
        "\n",
        "# Setting the X axis for graph plotting\n",
        "x=[i for i in range (min_temp,max_temp,inc)]\n",
        "x_smth = np.linspace(min(x), max(x), 300)"
      ]
    },
    {
      "cell_type": "markdown",
      "metadata": {
        "id": "LOT7Y0MprQm6"
      },
      "source": [
        "### 2.1 Calculate 1000ln$\\beta$ \n",
        "#### must run, every time you change anything in any cells above this one\n",
        "\n",
        "Run the cell below to calculate 1000ln$\\beta$ and store it in a list. For example, in:\n",
        ">ya=[beta(A,i) for i in range (min_temp,max_temp,inc)]\n",
        "\n",
        "'ya' is the list of 1000ln$\\beta$ values, A is the table of frequencies\n",
        "\n",
        "**You should always add additional lines rather than replacing lines**, unless you are sure that the 1000ln$\\beta$ values will not be used in any further calculations. \n",
        "\n",
        "This is important to ensure figure plottings can run error free"
      ]
    },
    {
      "cell_type": "code",
      "execution_count": null,
      "metadata": {
        "id": "TET3_Kg2rQm-"
      },
      "outputs": [],
      "source": [
        "ya=[beta(A,i) for i in range (min_temp,max_temp,inc)]\n",
        "yb=[beta(B,i) for i in range (min_temp,max_temp,inc)]\n",
        "yc=[beta(C,i) for i in range (min_temp,max_temp,inc)]\n",
        "yd=[beta(D,i) for i in range (min_temp,max_temp,inc)]\n",
        "ye=[beta(E,i) for i in range (min_temp,max_temp,inc)]\n",
        "yf=[beta(F,i) for i in range (min_temp,max_temp,inc)]\n",
        "yg=[beta(G,i) for i in range (min_temp,max_temp,inc)]"
      ]
    },
    {
      "cell_type": "markdown",
      "metadata": {
        "id": "geRqwXZprQm_"
      },
      "source": [
        "### 2.2 Show the calculation results\n",
        "#### Does not affect any other codes, only run when you need the information\n",
        "- Use the Display_result(ya) command to show temperature and \n",
        "- Use the print(ya) command to show a list of partition function ratios"
      ]
    },
    {
      "cell_type": "code",
      "execution_count": null,
      "metadata": {
        "id": "6ABajSF3rQnA",
        "outputId": "4921d564-fb15-4c47-9dde-c2082519a8d5"
      },
      "outputs": [
        {
          "name": "stdout",
          "output_type": "stream",
          "text": [
            "(Temperature, Part func)\n",
            "(200, 8.64075679013903)\n",
            "(300, 4.118576799062717)\n",
            "(400, 2.3884802258746056)\n",
            "(500, 1.552933645503296)\n",
            "(600, 1.0881924913158196)\n",
            "(700, 0.8038951854721643)\n",
            "(800, 0.6176440217879192)\n",
            "(900, 0.4891451124754074)\n",
            "(1000, 0.39682904204602076)\n",
            "(1100, 0.32831434835358525)\n",
            "(1200, 0.2760871409035054)\n",
            "(1300, 0.23537577028896056)\n",
            "(1400, 0.2030334269996284)\n"
          ]
        }
      ],
      "source": [
        "Display_result(ya)"
      ]
    },
    {
      "cell_type": "markdown",
      "metadata": {
        "id": "mG0CB5XPrQnB"
      },
      "source": [
        "### 2.2 Plotting 1000ln$\\beta$ \n",
        "#### Does not affect any other codes, only run when you need the information\n",
        "\n",
        "1. Under the section $\\#$ Plot \n",
        "    - Replace 'ya', 'yb' etc. for the your list of 1000ln$\\beta$ lists\n",
        "    - Have a separate line of code for each 1000ln$\\beta$ value you want to plot\n",
        "    - Change marker = to get apply a different shaped dot\n",
        "        - A list of markers can be found at: https://matplotlib.org/stable/api/markers_api.html\n",
        "    - Change c= to use a different colour\n",
        "        - A list of colours can be found at: https://matplotlib.org/stable/gallery/color/named_colors.html\n",
        "        \n",
        "2. under legends, change the name of the legends to what you want to display. \n",
        "    - Note that the number of elements in the legend list must match the number of lines you plot\n",
        "    \n",
        "3. Run the code, enter the x axis label, y axis label and title as asked\n",
        "    - To write 1000ln $\\beta_i$, see the comment at the end of the next cell\n",
        "    - To include special characters, check on: https://matplotlib.org/3.1.1/tutorials/text/mathtext.html\n",
        "    \n",
        "**!!Important!!**\n",
        "**DO NOT** rerun the cells before it produces a graph - This can cause the program to stuck in an endless loop\n",
        "\n",
        "If you want to change a value you entered, enter random things to produce a graph first, then rerun the cell"
      ]
    },
    {
      "cell_type": "code",
      "execution_count": null,
      "metadata": {
        "scrolled": false,
        "id": "C-8qIwbUrQnC",
        "outputId": "cf735b12-7bc3-4d1a-9b2d-24b3853f40bf"
      },
      "outputs": [
        {
          "name": "stdout",
          "output_type": "stream",
          "text": [
            "Enter the label for x-axis: Temperature (K)\n",
            "Enter the label for y-axis: $1000ln \\beta$\n",
            "Enter the title of the graph$1000ln \\beta$ of $ZnSO_4·4H_2O$ against Temperature\n"
          ]
        },
        {
          "data": {
            "image/png": "[encoded data removed]",
            "text/plain": [
              "<Figure size 432x288 with 1 Axes>"
            ]
          },
          "metadata": {
            "needs_background": "light"
          },
          "output_type": "display_data"
        }
      ],
      "source": [
        "# Plot\n",
        "plt.scatter(x,ya,marker='o',c='g',s=50,alpha=0.7)\n",
        "plt.scatter(x,yb,marker='+',c='b',s=50,alpha=0.7)\n",
        "plt.scatter(x,yc,marker='v',c='hotpink',s=50,alpha=0.7)\n",
        "plt.scatter(x,yd,marker='4',c='c',s=50,alpha=0.7)\n",
        "plt.scatter(x,ye,marker='<',c='y',s=50,alpha=0.7)\n",
        "plt.scatter(x,yf,marker='x',c='mediumpurple',s=50,alpha=0.7)\n",
        "plt.scatter(x,yg,marker='*',c='orange',s=50,alpha=0.7)\n",
        "\n",
        "# legends\n",
        "legends=['Isomer A','Isomer B','Isomer C','Isomer D','Isomer E','Isomer F','Isomer G']\n",
        "\n",
        "\n",
        "#ignore\n",
        "xlab,ylab,titleName=Setup_plot()\n",
        "plt.xlabel(xlab)\n",
        "plt.ylabel(ylab)\n",
        "plt.title(titleName)\n",
        "plt.legend(legends)\n",
        "plt.show()\n",
        "\n",
        "#To write 1000ln beta, write: 1000ln$\\beta$\n",
        "#To write subscript,use _ inside the $$ part\n",
        "#Example: $1000ln \\beta$ of $ZnSO_4·4H_2O$ against Temperature"
      ]
    },
    {
      "cell_type": "markdown",
      "metadata": {
        "id": "ZJRbFiParQnD"
      },
      "source": [
        "### 2.3 Plotting interpolating curve \n",
        "#### Does not affect any other codes, only run when you need the information\n",
        "\n",
        "\n",
        "1. Under the first $\\#$, Change the list names to the lists you wish to use. Set legends\n",
        "2. Run the code and write in x-axis label, y-axis label and title as before\n",
        "\n",
        "You can ignore everything else\n",
        "\n",
        "===================================================\n",
        "\n",
        "This cell is more complicated, if you want to add more lines to the figure, try to follow the $\\#$ in the cell below or ask me for help :) \n",
        "\n",
        "A bit information on the generation of interpolating curve:\n",
        "> The *make_interp_spline(x, i)* command uses **Cubic Spline Interpolation** (by default) to try to produce a smooth curve. \n",
        ">\n",
        "> Alternatively, enter a whole number at k= in *make_interp_spline(x, i, k=)*, to specify the B-spline degree\n",
        ">\n",
        "> More information on generating the curve, see: https://docs.scipy.org/doc/scipy/reference/generated/scipy.interpolate.make_interp_spline.html\n",
        ">\n",
        "> More information on the mathematical functioin used, see: https://en.wikipedia.org/wiki/B-spline"
      ]
    },
    {
      "cell_type": "code",
      "execution_count": null,
      "metadata": {
        "scrolled": false,
        "id": "ljnwxrg4rQnE",
        "outputId": "9009e8e9-933c-4a9e-e42d-9bebcc9a615b"
      },
      "outputs": [
        {
          "data": {
            "image/png": "[encoded data removed]",
            "text/plain": [
              "<Figure size 432x288 with 1 Axes>"
            ]
          },
          "metadata": {
            "needs_background": "light"
          },
          "output_type": "display_data"
        },
        {
          "name": "stdout",
          "output_type": "stream",
          "text": [
            "[(200, 8.64075679013903, 9.837176957203715), (300, 4.118576799062717, 4.709696314885943), (400, 2.3884802258746056, 2.734807499481268), (500, 1.552933645503296, 1.779769731170111), (600, 1.0881924913158196, 1.2483735436560095), (700, 0.8038951854721643, 0.9231855209974049), (800, 0.6176440217879192, 0.7100314495786728), (900, 0.4891451124754074, 0.5628677306611034), (1000, 0.39682904204602076, 0.45705594148438833), (1100, 0.32831434835358525, 0.3784565529718828), (1200, 0.2760871409035054, 0.3184892907485584), (1300, 0.23537577028896056, 0.27170450344080316), (1400, 0.2030334269996284, 0.23450706440470911)]\n"
          ]
        }
      ],
      "source": [
        "# Change ya and yb to your \n",
        "i=ya\n",
        "j=yb\n",
        "legends=['ZnSO4 isomer A','ZnSO4 isomer D']\n",
        "\n",
        "# Set up for best fit line plotting\n",
        "i_interp = make_interp_spline(x, i)\n",
        "j_interp = make_interp_spline(x, j)\n",
        "i_smth = i_interp(x_smth)\n",
        "j_smth = j_interp(x_smth)\n",
        "\n",
        "# Figure plotting - the points\n",
        "plt.scatter(x,i,c='b',alpha=0.7, s=50)\n",
        "plt.scatter(x,j,c='r',alpha=0.7, s=50)\n",
        "# Figure plotting - best fit line\n",
        "plt.plot(x_smth,i_smth, linewidth=2, c='b')\n",
        "plt.plot(x_smth,j_smth, linewidth=2, c='r')\n",
        "\n",
        "#Formatting plot, can ignore\n",
        "xlab,ylab,titleName=Setup_plot()\n",
        "plt.xlabel(xlab)\n",
        "plt.ylabel(ylab)\n",
        "plt.title(titleName)\n",
        "plt.legend(legends)\n",
        "plt.show()\n",
        "\n",
        "#Printing out: (temperature, lnB for isomer 1, inB for isomer 2)\n",
        "print(list(zip(x,i,j)))"
      ]
    },
    {
      "cell_type": "markdown",
      "metadata": {
        "id": "wjXak7osrQnG"
      },
      "source": [
        "## 3. $\\Delta$ calculation\n",
        "#### must run, when changes are applied to any above cells\n",
        "\n",
        "(The cell below contains input of ZnCl2's frequency data and subsequent calculations. This is to allows examples in further calculations to work. You can remove the cell if you no longer need the example)"
      ]
    },
    {
      "cell_type": "code",
      "execution_count": null,
      "metadata": {
        "id": "-Ugk20kxrQnH"
      },
      "outputs": [],
      "source": [
        "Cl2=pd.read_csv('ZnCl2_A.txt',sep='\\t',header=None)\n",
        "ycl2=[beta(Cl2,i) for i in range (min_temp,max_temp,inc)]"
      ]
    },
    {
      "cell_type": "markdown",
      "metadata": {
        "id": "tur4G1t8rQnI"
      },
      "source": [
        "### 3.1 Calculating $\\Delta$\n",
        "#### must run, when changes are applied to any above cells\n",
        "\n",
        "In the cell below, Change A and B *k=[a-b for a,b in zip(ycl2,ya)]* where A and B are the reactant and product in $\\Delta$ calculation (ZnCl2 and ZnSO4 in this example)\n",
        "\n",
        "The *print(list(zip(x,k)))* command shows (temperature,$\\Delta$) at all temperature intervals\n",
        "\n",
        "To plot more/less lines, add more *VariableName=[a-b for a,b in zip(A,B)]* command, change the VariableName to something which does not overlap any variables that have been used. \n",
        "\n",
        " <font size=\"1\"> Remember, you also need to add more interpolating commands to the plotting part in order to plot more lines</font>\n",
        "\n"
      ]
    },
    {
      "cell_type": "code",
      "execution_count": null,
      "metadata": {
        "id": "iXBeyyierQnJ",
        "outputId": "ce18109f-dfc9-439c-96ec-a7720f4648c9"
      },
      "outputs": [
        {
          "name": "stdout",
          "output_type": "stream",
          "text": [
            "[(200, -2.0454528280147635), (300, -0.9572880052514385), (400, -0.5569477490069801), (500, -0.36386593721238203), (600, -0.2558613686367943), (700, -0.18941012223821008), (800, -0.1456817073625799), (900, -0.11541896465929602), (1000, -0.0936344197016159), (1100, -0.0774477374259272), (1200, -0.0651019563848304), (1300, -0.0554767500767564), (1400, -0.04783096500033529)]\n"
          ]
        }
      ],
      "source": [
        "k=[a-b for a,b in zip(ycl2,ya)]\n",
        "l=[a-b for a,b in zip(ycl2,yd)]\n",
        "print(list(zip(x,k)))"
      ]
    },
    {
      "cell_type": "markdown",
      "metadata": {
        "id": "JoC3JaQYrQnL"
      },
      "source": [
        "### 3.2 Plotting $\\Delta$\n",
        "#### Does not affect any other codes, only run when you need the information\n",
        "The cell below plots the delta value(s) in smooth curve(s). \n",
        "\n",
        "It uses the same interpolating method as the previous section(2.3)\n",
        "\n",
        "1. Enter the list of legends\n",
        "2. Run the code straight away, or modify as before for more/less lines to plot\n",
        "3. Enter the axis labels and figure title like before"
      ]
    },
    {
      "cell_type": "code",
      "execution_count": null,
      "metadata": {
        "scrolled": false,
        "id": "MsjmELKWrQnL",
        "outputId": "7918005c-add8-402f-cfe8-c19417d05b6f"
      },
      "outputs": [
        {
          "name": "stdout",
          "output_type": "stream",
          "text": [
            "Enter the label for x-axis: x\n",
            "Enter the label for y-axis: y\n",
            "Enter the title of the graphtitle\n"
          ]
        },
        {
          "data": {
            "image/png": "[encoded data removed]",
            "text/plain": [
              "<Figure size 432x288 with 1 Axes>"
            ]
          },
          "metadata": {
            "needs_background": "light"
          },
          "output_type": "display_data"
        }
      ],
      "source": [
        "#Set legends\n",
        "legends=['$\\Delta$ for isomer A','$\\Delta$ for isomer D']\n",
        "\n",
        "# Set up for best fit line\n",
        "k_interp = make_interp_spline(x, k)\n",
        "k_smth = k_interp(x_smth)\n",
        "l_interp = make_interp_spline(x, l)\n",
        "l_smth = l_interp(x_smth)\n",
        "\n",
        "#Figure set up\n",
        "plt.plot(x_smth, k_smth,linewidth=3)\n",
        "plt.plot(x_smth, l_smth,linewidth=3)\n",
        "xlab,ylab,titleName=Setup_plot()\n",
        "plt.xlabel(xlab)\n",
        "plt.ylabel(ylab)\n",
        "plt.title(titleName)\n",
        "plt.legend(legends)\n",
        "plt.show()"
      ]
    },
    {
      "cell_type": "markdown",
      "metadata": {
        "id": "2zLuNM6irQnM"
      },
      "source": [
        "## 4. Isotope signature calculation\n"
      ]
    },
    {
      "cell_type": "markdown",
      "metadata": {
        "id": "MS8M8aZ2rQnM"
      },
      "source": [
        "### 4.1 $\\delta$ calculation and plot\n",
        "\n",
        "**Explaination of commands:**\n",
        "\n",
        "This lines loops over all temperature range\n",
        "> for i in range(starting % of product, end % of product+1,steps)\n",
        "\n",
        "\n",
        "\n",
        "This command **calculates and plots** $\\delta product$\n",
        "> plt_dB(ln_reactant,ln_product,$\\delta total$,i)\n",
        "\n",
        "\n",
        "\n",
        "This command **calculates and plots** $\\delta reactant$\n",
        "> plt_dA(ln_reactant,ln_product,$\\delta total$,i)\n",
        "\n",
        "\n"
      ]
    },
    {
      "cell_type": "code",
      "execution_count": null,
      "metadata": {
        "id": "IrAc0-fWrQnN",
        "outputId": "4926c987-4dbd-4f28-a390-4662708104f4"
      },
      "outputs": [
        {
          "name": "stdout",
          "output_type": "stream",
          "text": [
            "Enter the label for x-axis: Temperature (K)\n",
            "Enter the label for y-axis: $\\delta$ ZnSO4\n",
            "Enter the title of the graphIsotopic composition for $\\delta$ ZnSO4 at different temperature\n"
          ]
        },
        {
          "data": {
            "image/png": "[encoded data removed]",
            "text/plain": [
              "<Figure size 432x288 with 1 Axes>"
            ]
          },
          "metadata": {
            "needs_background": "light"
          },
          "output_type": "display_data"
        }
      ],
      "source": [
        "# Isotope signature calculation and plot for product\n",
        "for i in range (0,101,20):\n",
        "    plt_dB(ycl2,yd,1,i)\n",
        "\n",
        "# Plot\n",
        "xlab,ylab,titleName=Setup_plot()\n",
        "plt.xlabel(xlab)\n",
        "plt.ylabel(ylab)\n",
        "plt.title(titleName)\n",
        "plt.legend(['100:0','80:20','60:40','40:60','20:80','0:100'],title='Mixture Ratio(ZnCl2:ZnSO4)')\n",
        "\n",
        "plt.show()"
      ]
    },
    {
      "cell_type": "markdown",
      "metadata": {
        "id": "dOLC0--9rQnO"
      },
      "source": [
        "Similarly, the figure can be plotted for the reactant, using the command: \n",
        "> plt_dA"
      ]
    },
    {
      "cell_type": "code",
      "execution_count": null,
      "metadata": {
        "id": "3p_s2ARQrQnO",
        "outputId": "81c6ee4b-6370-4643-c6e6-a8d2ee322b83"
      },
      "outputs": [
        {
          "data": {
            "image/png": "[encoded data removed]",
            "text/plain": [
              "<Figure size 432x288 with 1 Axes>"
            ]
          },
          "metadata": {
            "needs_background": "light"
          },
          "output_type": "display_data"
        }
      ],
      "source": [
        "#example of plotting $\\delta$A\n",
        "for i in range (0,101,20):\n",
        "    plt_dA(ycl2,yd,1,i)"
      ]
    },
    {
      "cell_type": "markdown",
      "metadata": {
        "id": "BxMVKLtBrQnP"
      },
      "source": [
        "### 4.2 $\\delta$ calculation and display value\n",
        "\n",
        "Use the following commands to show values of $\\delta$ reactant(dA) or $\\delta$ product(dB) at every temperature for a specific precentage of the product\n",
        "> print_dA(ln reactant,ln product,delta_total,% of product)\n",
        "\n",
        "> print_dB(ln reactant,ln product,delta_total,% of product)\n",
        "\n",
        "\n",
        "The output displays as (Temperature,$\\delta$)"
      ]
    },
    {
      "cell_type": "code",
      "execution_count": null,
      "metadata": {
        "id": "NIYwbCK2rQnQ",
        "outputId": "858fa11d-b92a-4db3-8afc-d47d75de9142"
      },
      "outputs": [
        {
          "name": "stdout",
          "output_type": "stream",
          "text": [
            "(200, 0.3516254009841102)\n",
            "(300, 0.6903184957850672)\n",
            "(400, 0.8193449954772716)\n",
            "(500, 0.8818595954241606)\n",
            "(600, 0.9167915158046032)\n",
            "(700, 0.9382599084473098)\n",
            "(800, 0.9523861729693333)\n",
            "(900, 0.9621716834310017)\n",
            "(1000, 0.9692277361720033)\n",
            "(1100, 0.974482011591155)\n",
            "(1200, 0.9784991787540234)\n",
            "(1300, 0.9816389033542801)\n",
            "(1400, 0.9841390795189169)\n"
          ]
        }
      ],
      "source": [
        "print_dA(ycl2,yd,1,20)"
      ]
    },
    {
      "cell_type": "code",
      "execution_count": null,
      "metadata": {
        "id": "C-CG5yiQrQnS",
        "outputId": "94ba6c7c-20ab-4e37-a57d-148e670ba877"
      },
      "outputs": [
        {
          "name": "stdout",
          "output_type": "stream",
          "text": [
            "(200, 3.593498396063559)\n",
            "(300, 2.2387260168597316)\n",
            "(400, 1.722620018090914)\n",
            "(500, 1.4725616183033576)\n",
            "(600, 1.3328339367815873)\n",
            "(700, 1.2469603662107605)\n",
            "(800, 1.1904553081226668)\n",
            "(900, 1.1513132662759937)\n",
            "(1000, 1.1230890553119868)\n",
            "(1100, 1.1020719536353798)\n",
            "(1200, 1.0860032849839067)\n",
            "(1300, 1.073444386582879)\n",
            "(1400, 1.063443681924333)\n"
          ]
        }
      ],
      "source": [
        "print_dB(ycl2,yd,1,20)"
      ]
    },
    {
      "cell_type": "code",
      "execution_count": null,
      "metadata": {
        "id": "8XvnMXADrQnT"
      },
      "outputs": [],
      "source": [
        ""
      ]
    }
  ],
  "metadata": {
    "kernelspec": {
      "display_name": "Python 3",
      "language": "python",
      "name": "python3"
    },
    "language_info": {
      "codemirror_mode": {
        "name": "ipython",
        "version": 3
      },
      "file_extension": ".py",
      "mimetype": "text/x-python",
      "name": "python",
      "nbconvert_exporter": "python",
      "pygments_lexer": "ipython3",
      "version": "3.7.1"
    },
    "colab": {
      "name": "Beta_and_delta_calculation_code[118225].ipynb",
      "provenance": [],
      "include_colab_link": true
    }
  },
  "nbformat": 4,
  "nbformat_minor": 0
}